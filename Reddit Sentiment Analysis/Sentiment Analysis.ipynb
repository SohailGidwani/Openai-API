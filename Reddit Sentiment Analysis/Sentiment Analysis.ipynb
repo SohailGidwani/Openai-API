{
 "cells": [
  {
   "cell_type": "code",
   "execution_count": 3,
   "metadata": {
    "collapsed": true,
    "ExecuteTime": {
     "end_time": "2023-07-05T15:05:19.440300100Z",
     "start_time": "2023-07-05T15:05:19.233232500Z"
    }
   },
   "outputs": [],
   "source": [
    "import openai"
   ]
  },
  {
   "cell_type": "code",
   "execution_count": 5,
   "outputs": [
    {
     "name": "stdout",
     "output_type": "stream",
     "text": [
      "Collecting praw\n",
      "  Using cached praw-7.7.0-py3-none-any.whl (189 kB)\n",
      "Requirement already satisfied: websocket-client>=0.54.0 in c:\\users\\sohai\\appdata\\local\\programs\\python\\python310\\lib\\site-packages (from praw) (1.6.1)\n",
      "Collecting prawcore<3,>=2.1\n",
      "  Using cached prawcore-2.3.0-py3-none-any.whl (16 kB)\n",
      "Collecting update-checker>=0.18\n",
      "  Using cached update_checker-0.18.0-py3-none-any.whl (7.0 kB)\n",
      "Requirement already satisfied: requests<3.0,>=2.6.0 in c:\\users\\sohai\\appdata\\local\\programs\\python\\python310\\lib\\site-packages (from prawcore<3,>=2.1->praw) (2.28.1)\n",
      "Requirement already satisfied: idna<4,>=2.5 in c:\\users\\sohai\\appdata\\local\\programs\\python\\python310\\lib\\site-packages (from requests<3.0,>=2.6.0->prawcore<3,>=2.1->praw) (3.4)\n",
      "Requirement already satisfied: urllib3<1.27,>=1.21.1 in c:\\users\\sohai\\appdata\\local\\programs\\python\\python310\\lib\\site-packages (from requests<3.0,>=2.6.0->prawcore<3,>=2.1->praw) (1.26.12)\n",
      "Requirement already satisfied: certifi>=2017.4.17 in c:\\users\\sohai\\appdata\\local\\programs\\python\\python310\\lib\\site-packages (from requests<3.0,>=2.6.0->prawcore<3,>=2.1->praw) (2022.9.24)\n",
      "Requirement already satisfied: charset-normalizer<3,>=2 in c:\\users\\sohai\\appdata\\local\\programs\\python\\python310\\lib\\site-packages (from requests<3.0,>=2.6.0->prawcore<3,>=2.1->praw) (2.1.1)\n",
      "Installing collected packages: update-checker, prawcore, praw\n",
      "Successfully installed praw-7.7.0 prawcore-2.3.0 update-checker-0.18.0\n"
     ]
    },
    {
     "name": "stderr",
     "output_type": "stream",
     "text": [
      "\n",
      "[notice] A new release of pip is available: 23.0.1 -> 23.1.2\n",
      "[notice] To update, run: c:\\Users\\sohai\\AppData\\Local\\Programs\\Python\\Python310\\python.exe -m pip install --upgrade pip\n"
     ]
    }
   ],
   "source": [
    "!pip install praw"
   ],
   "metadata": {
    "collapsed": false,
    "ExecuteTime": {
     "end_time": "2023-07-05T15:11:25.805273900Z",
     "start_time": "2023-07-05T15:11:18.068122Z"
    }
   }
  },
  {
   "cell_type": "code",
   "execution_count": 6,
   "outputs": [],
   "source": [
    "import praw\n",
    "import os"
   ],
   "metadata": {
    "collapsed": false,
    "ExecuteTime": {
     "end_time": "2023-07-05T15:11:38.960967Z",
     "start_time": "2023-07-05T15:11:38.456580100Z"
    }
   }
  },
  {
   "cell_type": "code",
   "execution_count": 7,
   "outputs": [],
   "source": [
    "os.environ['REDDIT_CLI_ID'] = 'kmuLnqwwYhxGWc73vK7Qyg'\n",
    "os.environ['REDDIT_CLI_SEC'] = 'MPVfxdFw0AzhYBWlUHQ0DFieaEy2RQ'"
   ],
   "metadata": {
    "collapsed": false,
    "ExecuteTime": {
     "end_time": "2023-07-05T15:11:41.378601200Z",
     "start_time": "2023-07-05T15:11:41.324051700Z"
    }
   }
  },
  {
   "cell_type": "code",
   "execution_count": 8,
   "outputs": [],
   "source": [
    "Cli_ID = os.getenv('REDDIT_CLI_ID')\n",
    "\n",
    "Cli_Sec = os.getenv('REDDIT_CLI_SEC')"
   ],
   "metadata": {
    "collapsed": false,
    "ExecuteTime": {
     "end_time": "2023-07-05T15:11:42.018084500Z",
     "start_time": "2023-07-05T15:11:41.983259400Z"
    }
   }
  },
  {
   "cell_type": "code",
   "execution_count": 9,
   "outputs": [],
   "source": [
    "reddit = praw.Reddit(client_id= Cli_ID,\n",
    "                     client_secret = Cli_Sec,\n",
    "                     user_agent = 'Sentiment Analysis Test'\n",
    "                     )"
   ],
   "metadata": {
    "collapsed": false,
    "ExecuteTime": {
     "end_time": "2023-07-05T15:11:43.572289600Z",
     "start_time": "2023-07-05T15:11:43.360988700Z"
    }
   }
  },
  {
   "cell_type": "code",
   "execution_count": 10,
   "outputs": [
    {
     "name": "stdout",
     "output_type": "stream",
     "text": [
      "Moronic Monday - July 04, 2023 - Your Weekly Questions Thread\n",
      "We are Wall Street Journal reporters covering the collapse of SVB. Ask us anything.\n",
      "Out-of-sync U.S. stocks hide market risks\n",
      "Recession canceled? U.S. stock market ‘pretty frothy’ after S&P 500’s strongest first half since 2019\n",
      "The End of LIBOR Is (Finally) Here\n"
     ]
    }
   ],
   "source": [
    "for submissions in reddit.subreddit('finance').hot(limit = 5):\n",
    "    print(submissions.title)"
   ],
   "metadata": {
    "collapsed": false,
    "ExecuteTime": {
     "end_time": "2023-07-05T15:11:45.680503300Z",
     "start_time": "2023-07-05T15:11:44.505692400Z"
    }
   }
  },
  {
   "cell_type": "code",
   "execution_count": 11,
   "outputs": [],
   "source": [
    "subreddit_finance = reddit.subreddit('finance')"
   ],
   "metadata": {
    "collapsed": false,
    "ExecuteTime": {
     "end_time": "2023-07-05T15:11:45.730626800Z",
     "start_time": "2023-07-05T15:11:45.668033100Z"
    }
   }
  },
  {
   "cell_type": "code",
   "execution_count": 12,
   "outputs": [
    {
     "data": {
      "text/plain": "443"
     },
     "execution_count": 12,
     "metadata": {},
     "output_type": "execute_result"
    }
   ],
   "source": [
    "subreddit_finance.accounts_active"
   ],
   "metadata": {
    "collapsed": false,
    "ExecuteTime": {
     "end_time": "2023-07-05T15:11:46.049601800Z",
     "start_time": "2023-07-05T15:11:45.700600500Z"
    }
   }
  },
  {
   "cell_type": "code",
   "execution_count": 13,
   "outputs": [
    {
     "data": {
      "text/plain": "4288"
     },
     "execution_count": 13,
     "metadata": {},
     "output_type": "execute_result"
    }
   ],
   "source": [
    "subreddit_stocks = reddit.subreddit('stocks')\n",
    "subreddit_stocks.accounts_active"
   ],
   "metadata": {
    "collapsed": false,
    "ExecuteTime": {
     "end_time": "2023-07-05T15:11:46.476396400Z",
     "start_time": "2023-07-05T15:11:46.050604400Z"
    }
   }
  },
  {
   "cell_type": "code",
   "execution_count": 14,
   "outputs": [
    {
     "name": "stdout",
     "output_type": "stream",
     "text": [
      "FYI Apollo/RIF users of r/Stocks, click here - Reddit valuation/IPO discussion inside\n",
      "r/Stocks Daily Discussion Wednesday - Jul 05, 2023\n",
      "A U.S.-China tech war will hurt the rally in tech stocks\n",
      "Congressional Insider Trading in 2022: Using Inside Knowledge to Make Profits\n",
      "Is it a good time to buy bank stocks?\n"
     ]
    }
   ],
   "source": [
    "for post in subreddit_stocks.hot(limit = 5):\n",
    "    print(post.title)\n",
    "    submission = reddit.submission(post.id)\n",
    "    counter = 0\n",
    "    for comment in submission.comments:\n",
    "        if comment.body == '[deleted]':\n",
    "            pass\n",
    "        counter += 1\n",
    "        if counter == 2:\n",
    "            break"
   ],
   "metadata": {
    "collapsed": false,
    "ExecuteTime": {
     "end_time": "2023-07-05T15:11:49.563316Z",
     "start_time": "2023-07-05T15:11:46.475393800Z"
    }
   }
  },
  {
   "cell_type": "code",
   "execution_count": 15,
   "outputs": [],
   "source": [
    "def get_titles_comments(subreddit = 'stocks', limit=6, num_comments=3,skip_pinned = 2):\n",
    "    subreddit = reddit.subreddit(subreddit)\n",
    "    title_comments = {}\n",
    "\n",
    "    for counter,post in enumerate(subreddit.hot(limit = limit)):\n",
    "        if counter < skip_pinned:\n",
    "            continue\n",
    "        counter += (1-skip_pinned)\n",
    "        title_comments[counter] = \"\"\n",
    "        subm = reddit.submission(post.id)\n",
    "        title = post.title\n",
    "        title_comments[counter] += 'Title: '+title+\"\\n\\n\"\n",
    "        title_comments[counter] += 'Comments: \\n\\n'\n",
    "\n",
    "        comn_counter = 0\n",
    "        for comment in subm.comments:\n",
    "            if not comment.body == '[deleted]':\n",
    "                title_comments[counter] += comment.body+\"\\n\"\n",
    "                comn_counter += 1\n",
    "            if comn_counter == num_comments:\n",
    "                break\n",
    "    return title_comments"
   ],
   "metadata": {
    "collapsed": false,
    "ExecuteTime": {
     "end_time": "2023-07-05T15:50:34.540238900Z",
     "start_time": "2023-07-05T15:50:34.501964800Z"
    }
   }
  },
  {
   "cell_type": "code",
   "execution_count": 16,
   "outputs": [],
   "source": [
    "titles_comments = get_titles_comments()"
   ],
   "metadata": {
    "collapsed": false,
    "ExecuteTime": {
     "end_time": "2023-07-05T15:51:02.992461Z",
     "start_time": "2023-07-05T15:50:59.136977800Z"
    }
   }
  },
  {
   "cell_type": "code",
   "execution_count": 18,
   "outputs": [
    {
     "name": "stdout",
     "output_type": "stream",
     "text": [
      "{1: 'Title: Congressional Insider Trading in 2022: Using Inside Knowledge to Make Profits\\n\\nComments: \\n\\nIt makes me vomit as an American that this garbage is allowed.\\nLet’s talk about how Supreme Court decisions are for sale…\\nAt what point does a line get crossed when it comes to corruption?\\n', 2: 'Title: A U.S.-China tech war will hurt the rally in tech stocks\\n\\nComments: \\n\\nHi, you\\'re on r/Stocks, please make sure your post is related to stocks or the stockmarket or it will most likely get removed as being off-topic/political; feel free to edit it now and be more specific.\\n\\n**To everyone commenting:**  Please focus on how this affects the stock market or specific stocks or it will be removed as being off-topic/political.\\n\\nIf you\\'re interested in just politics, see our wiki on [\"relevant subreddits\"](https://www.reddit.com/r/stocks/wiki/index) and post to those Reddit communities instead without linking back here, thanks!\\n\\n*I am a bot, and this action was performed automatically. Please [contact the moderators of this subreddit](/message/compose/?to=/r/stocks) if you have any questions or concerns.*\\nEnergy Fuels (UUUU) is a US producer of rare earths minerals. Their primary focus is the extraction of minerals from monzanite sands which includes both Germanium and Gallium.\\nI think you are overestimating the effect of supply on the sector as a whol. Ys, export bans will probably hurt US producers a little, but there is supply elsewhere and holistically the US tech sector doesn\\'t solely reply on hardware output.\\n', 3: 'Title: Is it a good time to buy bank stocks?\\n\\nComments: \\n\\n“Their fundamentals” is too vague for us to assess if you’ve actually done your research. What sort of evidence do you have for your bullish hypothesis?\\nI got 1000 shares of BAC. Dividend just hit and was fat. I’m holding these for some time along with my S&P stuff.\\nIf Powell jacks interest rates again you may see them drop again more than other stocks.\\n\\nThe \"stress test\" the government ran will most likely lead to some bullish activity assuming powell doesn\\'t drop the market.\\n', 4: \"Title: Having trouble dollar cost averaging up.\\n\\nComments: \\n\\none trick is to buy on red day.  this way you can tell yourself that you got a deal!\\nWell, I would say your mentality is better than the other way around. At least you buy low and follow some sort of system.\\n\\nWhatever strategy you follow in the market you will always feel bad because it didn't go perfectly.\\n\\nAnd it might feel wrong since for your example something goes up too much and you feel like you missed an opportunity. But if it did go perfectly for us we would all be trillionaires.\\n\\nHowever, keep in mind some stocks will never see such lows as they are now.\\n\\nBut if you take 5-10 or more stocks and see what happens during 2 years, it's likely a lot of them will see lower prices than they are right now somewhere in those 2 years. Probably the majority of them.\\n\\nCostco is selling at all-time highs maybe you are doing the wise thing and waiting.\\n\\nJust have a target buying price and dont feel bad if you missed the bus just wait for the next one.\\nI have a few, forever hold almost stocks, unless I see crazy profits 700% my personal opinion. Costco, Apple and Amd are among them and I’m up about 50% plus and still buy weekly. Just think about retirement and nothing else. Get rid of the mental price and think about how much money you’re  spending at the said so company and how much more you will spend in the future. This never fails. This is how I stopped paying attention to the price.\\n\"}\n"
     ]
    }
   ],
   "source": [
    "print(titles_comments)"
   ],
   "metadata": {
    "collapsed": false,
    "ExecuteTime": {
     "end_time": "2023-07-05T15:51:16.924913400Z",
     "start_time": "2023-07-05T15:51:16.879787300Z"
    }
   }
  },
  {
   "cell_type": "code",
   "execution_count": 19,
   "outputs": [],
   "source": [
    "def create_prompt(title_comments):\n",
    "     task = \"Return the stock ticker or company in the following heading and comments and classify the sentiment. If no ticker or company is mentioned write 'No company mentioned':\\n\\n\"\n",
    "     return task + title_comments\n"
   ],
   "metadata": {
    "collapsed": false,
    "ExecuteTime": {
     "end_time": "2023-07-05T15:57:21.801828600Z",
     "start_time": "2023-07-05T15:57:21.770284800Z"
    }
   }
  },
  {
   "cell_type": "code",
   "execution_count": 20,
   "outputs": [],
   "source": [
    "prompt = create_prompt(titles_comments[1])"
   ],
   "metadata": {
    "collapsed": false,
    "ExecuteTime": {
     "end_time": "2023-07-05T15:59:51.367620600Z",
     "start_time": "2023-07-05T15:59:51.333253500Z"
    }
   }
  },
  {
   "cell_type": "code",
   "execution_count": 21,
   "outputs": [
    {
     "name": "stdout",
     "output_type": "stream",
     "text": [
      "Return the stock ticker or company in the following heading and comments and classify the sentiment. If no ticker or company is mentioned write 'No company mentioned':\n",
      "\n",
      "Title: Congressional Insider Trading in 2022: Using Inside Knowledge to Make Profits\n",
      "\n",
      "Comments: \n",
      "\n",
      "It makes me vomit as an American that this garbage is allowed.\n",
      "Let’s talk about how Supreme Court decisions are for sale…\n",
      "At what point does a line get crossed when it comes to corruption?\n",
      "\n"
     ]
    }
   ],
   "source": [
    "print(prompt)"
   ],
   "metadata": {
    "collapsed": false,
    "ExecuteTime": {
     "end_time": "2023-07-05T15:59:57.297372800Z",
     "start_time": "2023-07-05T15:59:57.281216600Z"
    }
   }
  },
  {
   "cell_type": "code",
   "execution_count": 23,
   "outputs": [
    {
     "name": "stdout",
     "output_type": "stream",
     "text": [
      "Title: Congressional Insider Trading in 2022: Using Inside Knowledge to Make Profits\n",
      "\n",
      "Comments: \n",
      "\n",
      "It makes me vomit as an American that this garbage is allowed.\n",
      "Let’s talk about how Supreme Court decisions are for sale…\n",
      "At what point does a line get crossed when it comes to corruption?\n",
      "\n",
      "Sentiment: \n",
      "No company mentioned\n",
      "------------------------------\n",
      "Title: A U.S.-China tech war will hurt the rally in tech stocks\n",
      "\n",
      "Comments: \n",
      "\n",
      "Hi, you're on r/Stocks, please make sure your post is related to stocks or the stockmarket or it will most likely get removed as being off-topic/political; feel free to edit it now and be more specific.\n",
      "\n",
      "**To everyone commenting:**  Please focus on how this affects the stock market or specific stocks or it will be removed as being off-topic/political.\n",
      "\n",
      "If you're interested in just politics, see our wiki on [\"relevant subreddits\"](https://www.reddit.com/r/stocks/wiki/index) and post to those Reddit communities instead without linking back here, thanks!\n",
      "\n",
      "*I am a bot, and this action was performed automatically. Please [contact the moderators of this subreddit](/message/compose/?to=/r/stocks) if you have any questions or concerns.*\n",
      "Energy Fuels (UUUU) is a US producer of rare earths minerals. Their primary focus is the extraction of minerals from monzanite sands which includes both Germanium and Gallium.\n",
      "I think you are overestimating the effect of supply on the sector as a whol. Ys, export bans will probably hurt US producers a little, but there is supply elsewhere and holistically the US tech sector doesn't solely reply on hardware output.\n",
      "\n",
      "Sentiment: \n",
      "No company mentioned.\n",
      "------------------------------\n",
      "Title: Is it a good time to buy bank stocks?\n",
      "\n",
      "Comments: \n",
      "\n",
      "“Their fundamentals” is too vague for us to assess if you’ve actually done your research. What sort of evidence do you have for your bullish hypothesis?\n",
      "I got 1000 shares of BAC. Dividend just hit and was fat. I’m holding these for some time along with my S&P stuff.\n",
      "If Powell jacks interest rates again you may see them drop again more than other stocks.\n",
      "\n",
      "The \"stress test\" the government ran will most likely lead to some bullish activity assuming powell doesn't drop the market.\n",
      "\n",
      "Sentiment: \n",
      "Company: BAC (Bank of America)\n",
      "Sentiment: Positive\n",
      "------------------------------\n",
      "Title: Having trouble dollar cost averaging up.\n",
      "\n",
      "Comments: \n",
      "\n",
      "one trick is to buy on red day.  this way you can tell yourself that you got a deal!\n",
      "Well, I would say your mentality is better than the other way around. At least you buy low and follow some sort of system.\n",
      "\n",
      "Whatever strategy you follow in the market you will always feel bad because it didn't go perfectly.\n",
      "\n",
      "And it might feel wrong since for your example something goes up too much and you feel like you missed an opportunity. But if it did go perfectly for us we would all be trillionaires.\n",
      "\n",
      "However, keep in mind some stocks will never see such lows as they are now.\n",
      "\n",
      "But if you take 5-10 or more stocks and see what happens during 2 years, it's likely a lot of them will see lower prices than they are right now somewhere in those 2 years. Probably the majority of them.\n",
      "\n",
      "Costco is selling at all-time highs maybe you are doing the wise thing and waiting.\n",
      "\n",
      "Just have a target buying price and dont feel bad if you missed the bus just wait for the next one.\n",
      "I have a few, forever hold almost stocks, unless I see crazy profits 700% my personal opinion. Costco, Apple and Amd are among them and I’m up about 50% plus and still buy weekly. Just think about retirement and nothing else. Get rid of the mental price and think about how much money you’re  spending at the said so company and how much more you will spend in the future. This never fails. This is how I stopped paying attention to the price.\n",
      "\n",
      "Sentiment: \n",
      "No company mentioned.\n",
      "------------------------------\n"
     ]
    }
   ],
   "source": [
    "for key, t_n_c in titles_comments.items():\n",
    "\n",
    "    prompt = create_prompt(t_n_c)\n",
    "\n",
    "    response = openai.Completion.create(engine=\"text-davinci-003\",\n",
    "                                                prompt=prompt,\n",
    "                                                max_tokens=256,\n",
    "                                                temperature=0,\n",
    "                                                top_p=1.0,\n",
    "                                                frequency_penalty=0.0,\n",
    "                                                presence_penalty=0.0)\n",
    "    print(t_n_c)\n",
    "    print(\"Sentiment: \" + response[\"choices\"][0][\"text\"])\n",
    "    print(\"-\"*30)"
   ],
   "metadata": {
    "collapsed": false,
    "ExecuteTime": {
     "end_time": "2023-07-05T16:13:44.075191900Z",
     "start_time": "2023-07-05T16:13:39.004772800Z"
    }
   }
  },
  {
   "cell_type": "code",
   "execution_count": null,
   "outputs": [],
   "source": [],
   "metadata": {
    "collapsed": false
   }
  }
 ],
 "metadata": {
  "kernelspec": {
   "display_name": "Python 3",
   "language": "python",
   "name": "python3"
  },
  "language_info": {
   "codemirror_mode": {
    "name": "ipython",
    "version": 2
   },
   "file_extension": ".py",
   "mimetype": "text/x-python",
   "name": "python",
   "nbconvert_exporter": "python",
   "pygments_lexer": "ipython2",
   "version": "2.7.6"
  }
 },
 "nbformat": 4,
 "nbformat_minor": 0
}
