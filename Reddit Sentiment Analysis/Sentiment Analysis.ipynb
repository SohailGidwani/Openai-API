{
 "cells": [
  {
   "cell_type": "code",
   "execution_count": 1,
   "metadata": {
    "collapsed": true,
    "ExecuteTime": {
     "end_time": "2023-07-05T03:36:24.276103400Z",
     "start_time": "2023-07-05T03:36:23.901107Z"
    }
   },
   "outputs": [],
   "source": [
    "import openai"
   ]
  },
  {
   "cell_type": "code",
   "execution_count": 4,
   "outputs": [],
   "source": [
    "import praw\n",
    "import os"
   ],
   "metadata": {
    "collapsed": false,
    "ExecuteTime": {
     "end_time": "2023-07-05T06:43:13.266456800Z",
     "start_time": "2023-07-05T06:43:13.260440200Z"
    }
   }
  },
  {
   "cell_type": "code",
   "execution_count": 6,
   "outputs": [],
   "source": [
    "os.environ['REDDIT_CLI_ID'] = 'kmuLnqwwYhxGWc73vK7Qyg'\n",
    "os.environ['REDDIT_CLI_SEC'] = 'MPVfxdFw0AzhYBWlUHQ0DFieaEy2RQ'"
   ],
   "metadata": {
    "collapsed": false,
    "ExecuteTime": {
     "end_time": "2023-07-05T06:46:00.922071300Z",
     "start_time": "2023-07-05T06:46:00.922071300Z"
    }
   }
  },
  {
   "cell_type": "code",
   "execution_count": 8,
   "outputs": [],
   "source": [
    "Cli_ID = os.getenv('REDDIT_CLI_ID')\n",
    "\n",
    "Cli_Sec = os.getenv('REDDIT_CLI_SEC')"
   ],
   "metadata": {
    "collapsed": false,
    "ExecuteTime": {
     "end_time": "2023-07-05T06:47:47.157659Z",
     "start_time": "2023-07-05T06:47:47.149134600Z"
    }
   }
  },
  {
   "cell_type": "code",
   "execution_count": 10,
   "outputs": [],
   "source": [
    "reddit = praw.Reddit(client_id= Cli_ID,\n",
    "                     client_secret = Cli_Sec,\n",
    "                     user_agent = 'Sentiment Analysis Test'\n",
    "                     )"
   ],
   "metadata": {
    "collapsed": false,
    "ExecuteTime": {
     "end_time": "2023-07-05T06:49:01.653024Z",
     "start_time": "2023-07-05T06:49:01.370758800Z"
    }
   }
  },
  {
   "cell_type": "code",
   "execution_count": 12,
   "outputs": [
    {
     "name": "stdout",
     "output_type": "stream",
     "text": [
      "Moronic Monday - July 04, 2023 - Your Weekly Questions Thread\n",
      "We are Wall Street Journal reporters covering the collapse of SVB. Ask us anything.\n",
      "Recession canceled? U.S. stock market ‘pretty frothy’ after S&P 500’s strongest first half since 2019\n",
      "The End of LIBOR Is (Finally) Here\n",
      "FINANCE Federal Reserve says 23 biggest banks weathered severe recession scenario in stress test\n"
     ]
    }
   ],
   "source": [
    "for submissions in reddit.subreddit('finance').hot(limit = 5):\n",
    "    print(submissions.title)"
   ],
   "metadata": {
    "collapsed": false,
    "ExecuteTime": {
     "end_time": "2023-07-05T06:51:00.691235800Z",
     "start_time": "2023-07-05T06:50:59.263607900Z"
    }
   }
  },
  {
   "cell_type": "code",
   "execution_count": 13,
   "outputs": [],
   "source": [
    "subreddit_finance = reddit.subreddit('finance')"
   ],
   "metadata": {
    "collapsed": false,
    "ExecuteTime": {
     "end_time": "2023-07-05T08:33:35.062454900Z",
     "start_time": "2023-07-05T08:33:35.062454900Z"
    }
   }
  },
  {
   "cell_type": "code",
   "execution_count": 14,
   "outputs": [
    {
     "data": {
      "text/plain": "633"
     },
     "execution_count": 14,
     "metadata": {},
     "output_type": "execute_result"
    }
   ],
   "source": [
    "subreddit_finance.accounts_active"
   ],
   "metadata": {
    "collapsed": false,
    "ExecuteTime": {
     "end_time": "2023-07-05T08:34:16.121047600Z",
     "start_time": "2023-07-05T08:34:16.113012200Z"
    }
   }
  },
  {
   "cell_type": "code",
   "execution_count": 15,
   "outputs": [
    {
     "data": {
      "text/plain": "2779"
     },
     "execution_count": 15,
     "metadata": {},
     "output_type": "execute_result"
    }
   ],
   "source": [
    "subreddit_stocks = reddit.subreddit('stocks')\n",
    "subreddit_stocks.accounts_active"
   ],
   "metadata": {
    "collapsed": false,
    "ExecuteTime": {
     "end_time": "2023-07-05T08:34:59.820879700Z",
     "start_time": "2023-07-05T08:34:59.403760100Z"
    }
   }
  },
  {
   "cell_type": "code",
   "execution_count": 20,
   "outputs": [
    {
     "name": "stdout",
     "output_type": "stream",
     "text": [
      "FYI Apollo/RIF users of r/Stocks, click here - Reddit valuation/IPO discussion inside\n",
      "r/Stocks Daily Discussion & Technicals Tuesday - Jul 04, 2023\n",
      "Having trouble dollar cost averaging up.\n",
      "Is Square and Paypal fucked when Fednow come out\n",
      "Facebook owner Meta set to launch Twitter rival on Thursday\n"
     ]
    }
   ],
   "source": [
    "for post in subreddit_stocks.hot(limit = 5):\n",
    "    print(post.title)\n",
    "    submission = reddit.submission(post.id)\n",
    "    counter = 0\n",
    "    for comment in submission.comments:\n",
    "        if comment.body == '[deleted]':\n",
    "            pass\n",
    "        counter += 1\n",
    "        if counter == 2:\n",
    "            break"
   ],
   "metadata": {
    "collapsed": false,
    "ExecuteTime": {
     "end_time": "2023-07-05T09:26:43.065336600Z",
     "start_time": "2023-07-05T09:26:36.810505900Z"
    }
   }
  },
  {
   "cell_type": "code",
   "execution_count": null,
   "outputs": [],
   "source": [],
   "metadata": {
    "collapsed": false
   }
  }
 ],
 "metadata": {
  "kernelspec": {
   "display_name": "Python 3",
   "language": "python",
   "name": "python3"
  },
  "language_info": {
   "codemirror_mode": {
    "name": "ipython",
    "version": 2
   },
   "file_extension": ".py",
   "mimetype": "text/x-python",
   "name": "python",
   "nbconvert_exporter": "python",
   "pygments_lexer": "ipython2",
   "version": "2.7.6"
  }
 },
 "nbformat": 4,
 "nbformat_minor": 0
}
