{
 "cells": [
  {
   "cell_type": "code",
   "execution_count": 22,
   "metadata": {
    "collapsed": true,
    "ExecuteTime": {
     "end_time": "2023-07-06T05:06:51.582750200Z",
     "start_time": "2023-07-06T05:06:51.120705100Z"
    }
   },
   "outputs": [],
   "source": [
    "import os\n",
    "import openai\n",
    "\n",
    "os.getenv(\"OPENAI_API_KEY\")\n",
    "openai.api_key = os.getenv(\"OPENAI_API_KEY\")"
   ]
  },
  {
   "cell_type": "code",
   "execution_count": 2,
   "outputs": [],
   "source": [
    "def doctring_prompt(code):\n",
    "    prompt = f\"{code}\\n #A high quality python docstring for the above Python function:\\n \\\"\\\"\\\"\"\n",
    "    return prompt"
   ],
   "metadata": {
    "collapsed": false,
    "ExecuteTime": {
     "end_time": "2023-07-06T03:22:06.999478300Z",
     "start_time": "2023-07-06T03:22:06.857489400Z"
    }
   }
  },
  {
   "cell_type": "code",
   "execution_count": 3,
   "outputs": [],
   "source": [
    "import inspect\n"
   ],
   "metadata": {
    "collapsed": false,
    "ExecuteTime": {
     "end_time": "2023-07-06T03:22:29.687445400Z",
     "start_time": "2023-07-06T03:22:29.674445600Z"
    }
   }
  },
  {
   "cell_type": "code",
   "execution_count": 4,
   "outputs": [],
   "source": [
    "def hello(name):\n",
    "    print(f\"Hello {name}!\")"
   ],
   "metadata": {
    "collapsed": false,
    "ExecuteTime": {
     "end_time": "2023-07-06T03:24:25.474587100Z",
     "start_time": "2023-07-06T03:24:25.459171300Z"
    }
   }
  },
  {
   "cell_type": "code",
   "execution_count": 7,
   "outputs": [
    {
     "name": "stdout",
     "output_type": "stream",
     "text": [
      "def hello(name):\n",
      "    print(f\"Hello {name}!\")\n",
      "\n",
      " #A high quality python docstring for the above Python function:\n",
      " \"\"\"\n"
     ]
    }
   ],
   "source": [
    "print(doctring_prompt(inspect.getsource(hello)))"
   ],
   "metadata": {
    "collapsed": false,
    "ExecuteTime": {
     "end_time": "2023-07-06T03:25:19.742867Z",
     "start_time": "2023-07-06T03:25:19.704883100Z"
    }
   }
  },
  {
   "cell_type": "code",
   "execution_count": 10,
   "outputs": [],
   "source": [
    "response = openai.Completion.create(\n",
    "    model = 'text-davinci-003',\n",
    "    prompt =doctring_prompt(inspect.getsource(hello)),\n",
    "    max_tokens = 100,\n",
    "    temperature = 0,\n",
    "    top_p = 1.0,\n",
    "    stop = [\"\\\"\\\"\\\"\"])"
   ],
   "metadata": {
    "collapsed": false,
    "ExecuteTime": {
     "end_time": "2023-07-06T03:29:30.025741200Z",
     "start_time": "2023-07-06T03:29:28.517300400Z"
    }
   }
  },
  {
   "cell_type": "code",
   "execution_count": 14,
   "outputs": [],
   "source": [
    "docstring = response['choices'][0]['text']"
   ],
   "metadata": {
    "collapsed": false,
    "ExecuteTime": {
     "end_time": "2023-07-06T04:42:20.688590200Z",
     "start_time": "2023-07-06T04:42:20.675983400Z"
    }
   }
  },
  {
   "cell_type": "code",
   "execution_count": 15,
   "outputs": [],
   "source": [
    "def merge_docstring_func(org_func,docstring):\n",
    "    func_str = inspect.getsource(org_func)\n",
    "    split = func_str.split('\\n')\n",
    "    first_part,second_part = split[0],\"\\n\".join(split[1:])\n",
    "    merged_func = first_part+'\\n \"\"\"'+docstring+'  \"\"\"'+'\\n'+second_part\n",
    "    return merged_func"
   ],
   "metadata": {
    "collapsed": false,
    "ExecuteTime": {
     "end_time": "2023-07-06T04:44:00.908506300Z",
     "start_time": "2023-07-06T04:44:00.900508500Z"
    }
   }
  },
  {
   "cell_type": "code",
   "execution_count": 17,
   "outputs": [
    {
     "name": "stdout",
     "output_type": "stream",
     "text": [
      "def hello(name):\n",
      " \"\"\"\n",
      "This function prints a greeting to the given name.\n",
      "\n",
      "Parameters:\n",
      "name (str): The name of the person to greet.\n",
      "\n",
      "Returns:\n",
      "None\n",
      "   \"\"\"\n",
      "    print(f\"Hello {name}!\")\n",
      "\n"
     ]
    }
   ],
   "source": [
    "print(merge_docstring_func(hello, docstring))"
   ],
   "metadata": {
    "collapsed": false,
    "ExecuteTime": {
     "end_time": "2023-07-06T04:45:06.815947700Z",
     "start_time": "2023-07-06T04:45:06.808949600Z"
    }
   }
  },
  {
   "cell_type": "code",
   "execution_count": 19,
   "outputs": [],
   "source": [
    "def get_titles_comments(subreddit = 'stocks', limit=6, num_comments=3,skip_pinned = 2):\n",
    "    subreddit = reddit.subreddit(subreddit)\n",
    "    title_comments = {}\n",
    "\n",
    "    for counter,post in enumerate(subreddit.hot(limit = limit)):\n",
    "        if counter < skip_pinned:\n",
    "            continue\n",
    "        counter += (1-skip_pinned)\n",
    "        title_comments[counter] = \"\"\n",
    "        subm = reddit.submission(post.id)\n",
    "        title = post.title\n",
    "        title_comments[counter] += 'Title: '+title+\"\\n\\n\"\n",
    "        title_comments[counter] += 'Comments: \\n\\n'\n",
    "\n",
    "        comn_counter = 0\n",
    "        for comment in subm.comments:\n",
    "            if not comment.body == '[deleted]':\n",
    "                title_comments[counter] += comment.body+\"\\n\"\n",
    "                comn_counter += 1\n",
    "            if comn_counter == num_comments:\n",
    "                break\n",
    "    return title_comments"
   ],
   "metadata": {
    "collapsed": false,
    "ExecuteTime": {
     "end_time": "2023-07-06T04:48:54.513457Z",
     "start_time": "2023-07-06T04:48:54.505458200Z"
    }
   }
  },
  {
   "cell_type": "code",
   "execution_count": 21,
   "outputs": [
    {
     "name": "stdout",
     "output_type": "stream",
     "text": [
      "def get_titles_comments(subreddit = 'stocks', limit=6, num_comments=3,skip_pinned = 2):\n",
      " \"\"\"\n",
      "This function retrieves the titles and comments of a given subreddit.\n",
      "\n",
      "Parameters:\n",
      "    subreddit (str): The subreddit to retrieve titles and comments from.\n",
      "    limit (int): The maximum number of posts to retrieve.\n",
      "    num_comments (int): The maximum number of comments to retrieve per post.\n",
      "    skip_pinned (int): The number of pinned posts to skip.\n",
      "\n",
      "Returns:\n",
      "    title_comments (dict): A dictionary containing the titles and  \"\"\"\n",
      "    subreddit = reddit.subreddit(subreddit)\n",
      "    title_comments = {}\n",
      "\n",
      "    for counter,post in enumerate(subreddit.hot(limit = limit)):\n",
      "        if counter < skip_pinned:\n",
      "            continue\n",
      "        counter += (1-skip_pinned)\n",
      "        title_comments[counter] = \"\"\n",
      "        subm = reddit.submission(post.id)\n",
      "        title = post.title\n",
      "        title_comments[counter] += 'Title: '+title+\"\\n\\n\"\n",
      "        title_comments[counter] += 'Comments: \\n\\n'\n",
      "\n",
      "        comn_counter = 0\n",
      "        for comment in subm.comments:\n",
      "            if not comment.body == '[deleted]':\n",
      "                title_comments[counter] += comment.body+\"\\n\"\n",
      "                comn_counter += 1\n",
      "            if comn_counter == num_comments:\n",
      "                break\n",
      "    return title_comments\n",
      "\n"
     ]
    }
   ],
   "source": [
    "response = openai.Completion.create(\n",
    "    model = 'text-davinci-003',\n",
    "    prompt =doctring_prompt(inspect.getsource(get_titles_comments)),\n",
    "    max_tokens = 100,\n",
    "    temperature = 0,\n",
    "    top_p = 1.0,\n",
    "    stop = [\"\\\"\\\"\\\"\"])\n",
    "print(merge_docstring_func(get_titles_comments, response['choices'][0]['text']))"
   ],
   "metadata": {
    "collapsed": false,
    "ExecuteTime": {
     "end_time": "2023-07-06T04:50:56.903885400Z",
     "start_time": "2023-07-06T04:50:53.586422600Z"
    }
   }
  },
  {
   "cell_type": "code",
   "execution_count": null,
   "outputs": [],
   "source": [],
   "metadata": {
    "collapsed": false
   }
  }
 ],
 "metadata": {
  "kernelspec": {
   "display_name": "Python 3",
   "language": "python",
   "name": "python3"
  },
  "language_info": {
   "codemirror_mode": {
    "name": "ipython",
    "version": 2
   },
   "file_extension": ".py",
   "mimetype": "text/x-python",
   "name": "python",
   "nbconvert_exporter": "python",
   "pygments_lexer": "ipython2",
   "version": "2.7.6"
  }
 },
 "nbformat": 4,
 "nbformat_minor": 0
}
